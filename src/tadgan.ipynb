{
 "cells": [
  {
   "cell_type": "code",
   "execution_count": 1,
   "id": "d8d730d6-5f66-4e6a-b9cf-7d95b1593f36",
   "metadata": {},
   "outputs": [],
   "source": [
    "import numpy as np\n",
    "import matplotlib.pyplot as plt\n",
    "from orion.data import load_signal, load_anomalies"
   ]
  },
  {
   "cell_type": "code",
   "execution_count": 2,
   "id": "2af1f4e9-dc31-4c85-8a1e-3b3ca7b8e176",
   "metadata": {
    "tags": []
   },
   "outputs": [],
   "source": [
    "signal = 'nyc_taxi'\n",
    "\n",
    "df = load_signal(signal)\n",
    "known_anomlies = load_anomalies(signal)"
   ]
  },
  {
   "cell_type": "code",
   "execution_count": 3,
   "id": "76f61be8-96e8-494e-977e-406e14fef2c3",
   "metadata": {},
   "outputs": [],
   "source": [
    "def display(df, t_df, p_fg):\n",
    "    fig = plt.figure(figsize=(20, 5))\n",
    "    ax = fig.add_subplot(111)\n",
    "    ax.plot(df['timestamp'], df['value'])\n",
    "    for data in t_df.itertuples():\n",
    "        ax.axvspan(data.start, data.end, color = \"coral\")\n",
    "    for data in p_df.itertuples():\n",
    "        ax.axvspan(data.start, data.end, color = \"lightgreen\")\n",
    "    plt.show()"
   ]
  },
  {
   "cell_type": "code",
   "execution_count": null,
   "id": "f62a8351-9b53-4ace-8488-1ba6fc18c750",
   "metadata": {},
   "outputs": [
    {
     "name": "stderr",
     "output_type": "stream",
     "text": [
      "Using TensorFlow backend.\n"
     ]
    },
    {
     "name": "stdout",
     "output_type": "stream",
     "text": [
      "WARNING:tensorflow:From /usr/local/lib/python3.6/site-packages/tensorflow_core/python/ops/resource_variable_ops.py:1630: calling BaseResourceVariable.__init__ (from tensorflow.python.ops.resource_variable_ops) with constraint is deprecated and will be removed in a future version.\n",
      "Instructions for updating:\n",
      "If using Keras pass *_constraint arguments to layers.\n",
      "WARNING:tensorflow:From /usr/local/lib/python3.6/site-packages/tensorflow_core/python/ops/math_grad.py:1424: where (from tensorflow.python.ops.array_ops) is deprecated and will be removed in a future version.\n",
      "Instructions for updating:\n",
      "Use tf.where in 2.0, which has the same broadcast rule as np.where\n"
     ]
    },
    {
     "name": "stderr",
     "output_type": "stream",
     "text": [
      "/usr/local/lib/python3.6/site-packages/keras/engine/training.py:297: UserWarning: Discrepancy between trainable weights and collected trainable weights, did you set `model.trainable` without calling `model.compile` after ?\n",
      "  'Discrepancy between trainable weights and collected trainable'\n"
     ]
    },
    {
     "name": "stdout",
     "output_type": "stream",
     "text": [
      "WARNING:tensorflow:From /usr/local/lib/python3.6/site-packages/keras/backend/tensorflow_backend.py:422: The name tf.global_variables is deprecated. Please use tf.compat.v1.global_variables instead.\n",
      "\n"
     ]
    },
    {
     "name": "stderr",
     "output_type": "stream",
     "text": [
      "/usr/local/lib/python3.6/site-packages/keras/engine/training.py:297: UserWarning: Discrepancy between trainable weights and collected trainable weights, did you set `model.trainable` without calling `model.compile` after ?\n",
      "  'Discrepancy between trainable weights and collected trainable'\n"
     ]
    }
   ],
   "source": [
    "from orion import Orion\n",
    "orion = Orion(pipeline='tadgan.json')\n",
    "anomalies = orion.fit_detect(df)\n",
    "display(df, known_anomlies, anomalies)"
   ]
  },
  {
   "cell_type": "code",
   "execution_count": null,
   "id": "739095de-cd72-4267-bb2d-8a7d5986f919",
   "metadata": {},
   "outputs": [],
   "source": []
  }
 ],
 "metadata": {
  "kernelspec": {
   "display_name": "Python 3",
   "language": "python",
   "name": "python3"
  },
  "language_info": {
   "codemirror_mode": {
    "name": "ipython",
    "version": 3
   },
   "file_extension": ".py",
   "mimetype": "text/x-python",
   "name": "python",
   "nbconvert_exporter": "python",
   "pygments_lexer": "ipython3",
   "version": "3.6.15"
  }
 },
 "nbformat": 4,
 "nbformat_minor": 5
}
